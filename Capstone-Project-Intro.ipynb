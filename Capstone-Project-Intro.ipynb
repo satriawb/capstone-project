{
 "cells": [
  {
   "cell_type": "markdown",
   "metadata": {},
   "source": [
    "<h1 align=center><font size = 5>Recomemendation for Hotel Construction in Bandung, Indonesia through Clustering Analysis</font></h1>"
   ]
  },
  {
   "cell_type": "markdown",
   "metadata": {},
   "source": [
    "## Introduction: Problem Description\n",
    "\n",
    "**Hotel Franchise A** decides to open a hotel in Bandung, Indonesia. Before beginning the construction, they want to analyze which part of the town the hotel should be built. A survey is deployed to the board of commissioners and other relevant stakeholders. The first and most important criterion that they want is that the hotel is located to as many point-of-interests/attractions as possible. Therefore, the analysis of neighborhood venues is necessary to be performed"
   ]
  },
  {
   "cell_type": "markdown",
   "metadata": {},
   "source": [
    "## Introduction: Data\n",
    "\n",
    "**1. Geo-Location**\n",
    "Specific Geo-Location data will be needed to do the analysis, specifically the coordinates (latitude and longitude) of all boroughs and neighborhoods in Bandung, Indonesia. Through the search, the writer decides to borrow Geo JSON data of Bandung in https://github.com/tyohan/bandung-map-dataset . Thank you for the author."
   ]
  },
  {
   "cell_type": "markdown",
   "metadata": {},
   "source": [
    "**2. Venues Data** To understand the position of venues we need the list of venues in each of the neighborhood and their latitude-longitude data. Another important data is the venue category. To simplify the project, we will only use K-Means Machine Learning clustering algorithm on venue categories. Other informations such as Venue Summary and Distance can be used as additional deciding factors. These data will be gathered through Foursquare Open API. More about Foursquare Open API can be read on https://foursquare.com/developers/apps"
   ]
  },
  {
   "cell_type": "code",
   "execution_count": null,
   "metadata": {},
   "outputs": [],
   "source": []
  }
 ],
 "metadata": {
  "kernelspec": {
   "display_name": "Python 3",
   "language": "python",
   "name": "python3"
  },
  "language_info": {
   "codemirror_mode": {
    "name": "ipython",
    "version": 3
   },
   "file_extension": ".py",
   "mimetype": "text/x-python",
   "name": "python",
   "nbconvert_exporter": "python",
   "pygments_lexer": "ipython3",
   "version": "3.6.8"
  }
 },
 "nbformat": 4,
 "nbformat_minor": 2
}
