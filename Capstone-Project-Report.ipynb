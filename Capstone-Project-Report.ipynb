{
 "cells": [
  {
   "cell_type": "markdown",
   "metadata": {},
   "source": [
    "## Recomemendation for Hotel Construction in Bandung, Indonesia through Clustering Analysis"
   ]
  },
  {
   "cell_type": "markdown",
   "metadata": {},
   "source": [
    "## Introduction: Problem Description\n",
    "\n",
    "**Hotel Franchise A** decides to open a hotel in Bandung, Indonesia. Before beginning the construction, they want to analyze which part of the town the hotel should be built. A survey is deployed to the board of commissioners and other relevant stakeholders. The first and most important criterion that they want is that the hotel is located to as many point-of-interests/attractions as possible. Therefore, the analysis of neighborhood venues is necessary to be performed"
   ]
  },
  {
   "cell_type": "markdown",
   "metadata": {},
   "source": [
    "## Introduction: Data\n",
    "\n",
    "**1. Geo-Location**\n",
    "Specific Geo-Location data will be needed to do the analysis, specifically the coordinates (latitude and longitude) of all boroughs and neighborhoods in Bandung, Indonesia. Through the search, the writer decides to borrow Geo JSON data of Bandung in https://github.com/tyohan/bandung-map-dataset . Thank you for the author."
   ]
  },
  {
   "cell_type": "markdown",
   "metadata": {},
   "source": [
    "We will extract the JSON into panda DataFrame. More or less to the following form:"
   ]
  },
  {
   "cell_type": "code",
   "execution_count": 10,
   "metadata": {},
   "outputs": [
    {
     "data": {
      "text/html": [
       "<div>\n",
       "<style scoped>\n",
       "    .dataframe tbody tr th:only-of-type {\n",
       "        vertical-align: middle;\n",
       "    }\n",
       "\n",
       "    .dataframe tbody tr th {\n",
       "        vertical-align: top;\n",
       "    }\n",
       "\n",
       "    .dataframe thead th {\n",
       "        text-align: right;\n",
       "    }\n",
       "</style>\n",
       "<table border=\"1\" class=\"dataframe\">\n",
       "  <thead>\n",
       "    <tr style=\"text-align: right;\">\n",
       "      <th></th>\n",
       "      <th>Boroughs</th>\n",
       "      <th>Neighborhoods</th>\n",
       "      <th>Latitude</th>\n",
       "      <th>Longitude</th>\n",
       "    </tr>\n",
       "  </thead>\n",
       "  <tbody>\n",
       "  </tbody>\n",
       "</table>\n",
       "</div>"
      ],
      "text/plain": [
       "Empty DataFrame\n",
       "Columns: [Boroughs, Neighborhoods, Latitude, Longitude]\n",
       "Index: []"
      ]
     },
     "execution_count": 10,
     "metadata": {},
     "output_type": "execute_result"
    }
   ],
   "source": [
    "import pandas as pd\n",
    "column_names = ['Boroughs', 'Neighborhoods', 'Latitude', 'Longitude'] \n",
    "neighborhoods = pd.DataFrame(columns=column_names)\n",
    "neighborhoods"
   ]
  },
  {
   "cell_type": "markdown",
   "metadata": {},
   "source": [
    "**2. Venues Data** To understand the position of venues we need the list of venues in each of the neighborhood and their latitude-longitude data. Another important data is the venue category. To simplify the project, we will only use K-Means Machine Learning clustering algorithm on venue categories. Other informations such as Venue Summary and Distance can be used as additional deciding factors. These data will be gathered through Foursquare Open API. More about Foursquare Open API can be read on https://foursquare.com/developers/apps"
   ]
  },
  {
   "cell_type": "markdown",
   "metadata": {},
   "source": [
    "To extract data from Foursquare, we will crawl through Foursquare API, and get the data into this following form:"
   ]
  },
  {
   "cell_type": "code",
   "execution_count": 10,
   "metadata": {},
   "outputs": [
    {
     "data": {
      "text/html": [
       "<div>\n",
       "<style scoped>\n",
       "    .dataframe tbody tr th:only-of-type {\n",
       "        vertical-align: middle;\n",
       "    }\n",
       "\n",
       "    .dataframe tbody tr th {\n",
       "        vertical-align: top;\n",
       "    }\n",
       "\n",
       "    .dataframe thead th {\n",
       "        text-align: right;\n",
       "    }\n",
       "</style>\n",
       "<table border=\"1\" class=\"dataframe\">\n",
       "  <thead>\n",
       "    <tr style=\"text-align: right;\">\n",
       "      <th></th>\n",
       "      <th>Neighborhood</th>\n",
       "      <th>Neighborhood Latitude</th>\n",
       "      <th>Neighborhood Longitude</th>\n",
       "      <th>Venue</th>\n",
       "      <th>Venue Summary</th>\n",
       "      <th>Venue Category</th>\n",
       "      <th>Distance</th>\n",
       "    </tr>\n",
       "  </thead>\n",
       "  <tbody>\n",
       "  </tbody>\n",
       "</table>\n",
       "</div>"
      ],
      "text/plain": [
       "Empty DataFrame\n",
       "Columns: [Neighborhood, Neighborhood Latitude, Neighborhood Longitude, Venue, Venue Summary, Venue Category, Distance]\n",
       "Index: []"
      ]
     },
     "execution_count": 10,
     "metadata": {},
     "output_type": "execute_result"
    }
   ],
   "source": [
    "column_names_ = ['Neighborhood', 'Neighborhood Latitude',\n",
    "       'Neighborhood Longitude', 'Venue', 'Venue Summary', 'Venue Category',\n",
    "       'Distance'] \n",
    "venues = pd.DataFrame(columns=column_names_)\n",
    "venues"
   ]
  },
  {
   "cell_type": "markdown",
   "metadata": {},
   "source": [
    "## Methodology"
   ]
  },
  {
   "cell_type": "markdown",
   "metadata": {},
   "source": [
    "## Part 1: Gathering Neighborhoods and Their Coordinates"
   ]
  },
  {
   "cell_type": "markdown",
   "metadata": {},
   "source": [
    "To obtain Neighborhood data of Bandung area, we extract the JSON data from https://github.com/tyohan/bandung-map-dataset. The neighborhood is then transformed into a pandas DataFrame. \n",
    "\n",
    "The raw JSON data contains Polygon-typed coordinate. To simplify the coordinate extraction, we will pick the first most coordinate from the polygon as point. Due this process, the extracted coordinate is a point on the  **border** of the actual neighborhood.\n",
    "\n",
    "From the prior process, we got the Borough, Neighborhood, Latitude and Longitude in Bandung, ID. We summarized the list and it contains 26 boroughs and 139 neighborhoods.\n",
    "\n",
    "After that, we plotted the neighborhoods to the Bandung map "
   ]
  },
  {
   "cell_type": "code",
   "execution_count": null,
   "metadata": {},
   "outputs": [],
   "source": [
    "from PIL import Image\n",
    "im = Image.open(\"bride.jpg\")\n",
    "im.rotate(45).show()"
   ]
  },
  {
   "cell_type": "markdown",
   "metadata": {},
   "source": [
    "## Part 2: Gathering Venues Data in Bandung and Cleaning Them"
   ]
  },
  {
   "cell_type": "markdown",
   "metadata": {},
   "source": [
    "The venues data are gathered from GET function of Foursquare through crawling function, credit to https://github.com/chenyang03/Foursquare_Crawler\n",
    "\n",
    "Through function, the database of venues gathered from all the neighborhoods and within the 1000 m radius of their long-lat coordinate and limit of 500 venues per coordinates.\n",
    "\n",
    "With using the function credit to https://github.com/alidastgheib called GetVenuesDataset, we will extract the crawled data explained in the prior paragraph to the Pandas dataframe containing the following data before saving them to CSV\n"
   ]
  },
  {
   "cell_type": "code",
   "execution_count": 5,
   "metadata": {},
   "outputs": [
    {
     "data": {
      "text/html": [
       "<div>\n",
       "<style scoped>\n",
       "    .dataframe tbody tr th:only-of-type {\n",
       "        vertical-align: middle;\n",
       "    }\n",
       "\n",
       "    .dataframe tbody tr th {\n",
       "        vertical-align: top;\n",
       "    }\n",
       "\n",
       "    .dataframe thead th {\n",
       "        text-align: right;\n",
       "    }\n",
       "</style>\n",
       "<table border=\"1\" class=\"dataframe\">\n",
       "  <thead>\n",
       "    <tr style=\"text-align: right;\">\n",
       "      <th></th>\n",
       "      <th>Neighborhood</th>\n",
       "      <th>Neighborhood Latitude</th>\n",
       "      <th>Neighborhood Longitude</th>\n",
       "      <th>Venue</th>\n",
       "      <th>Venue Summary</th>\n",
       "      <th>Venue Category</th>\n",
       "      <th>Distance</th>\n",
       "    </tr>\n",
       "  </thead>\n",
       "  <tbody>\n",
       "  </tbody>\n",
       "</table>\n",
       "</div>"
      ],
      "text/plain": [
       "Empty DataFrame\n",
       "Columns: [Neighborhood, Neighborhood Latitude, Neighborhood Longitude, Venue, Venue Summary, Venue Category, Distance]\n",
       "Index: []"
      ]
     },
     "execution_count": 5,
     "metadata": {},
     "output_type": "execute_result"
    }
   ],
   "source": [
    "column_names_ = ['Neighborhood', 'Neighborhood Latitude',\n",
    "       'Neighborhood Longitude', 'Venue', 'Venue Summary', 'Venue Category',\n",
    "       'Distance'] \n",
    "venues = pd.DataFrame(columns=column_names_)\n",
    "venues"
   ]
  },
  {
   "cell_type": "markdown",
   "metadata": {},
   "source": [
    "## Part 3: One-hot Encoding of Venues"
   ]
  },
  {
   "cell_type": "markdown",
   "metadata": {},
   "source": [
    "The next step of the methodology is understanding the unique values of venue categories. \n",
    "These unique categories is then plotted and grouped into each of the neighborhood as one-hot encoding. One hot encoding\n",
    "describes the number of each unique categories (as cloumn) and count the number of unique category appears in the following neighborhoods. It should be noted that some categories are eliminated as we are only interested in categories related to the point-of-interests and attractions. The elimination of these categories are done manually according to the domain knowledge."
   ]
  },
  {
   "cell_type": "markdown",
   "metadata": {},
   "source": [
    "## Part 3: Machine Learning Step, Clustering by K Means"
   ]
  },
  {
   "cell_type": "markdown",
   "metadata": {},
   "source": [
    "The one hot dataframe is then undergo the clustering by using K-Means clustering with K=5. This was done using sklearn library."
   ]
  },
  {
   "cell_type": "markdown",
   "metadata": {},
   "source": [
    "To rank the cluster we calculate the centroids of each clusters towards the respective selected unique categories and then total them. The rank is descending from the highest to the lowest sum. The highest sum is regarded as the best cluster to build the hotel"
   ]
  },
  {
   "cell_type": "markdown",
   "metadata": {},
   "source": [
    "## Result and Discussion"
   ]
  },
  {
   "cell_type": "markdown",
   "metadata": {},
   "source": [
    "The result of ranked cluster is:\n",
    "\n",
    "**Cluster1    18.125000**\n",
    "\n",
    "\n",
    "Cluster4    12.555556\n",
    "\n",
    "\n",
    "Cluster3    12.500000\n",
    "\n",
    "    \n",
    "Cluster5    11.375000\n",
    "\n",
    "    \n",
    "Cluster2    2.921569"
   ]
  },
  {
   "cell_type": "markdown",
   "metadata": {},
   "source": [
    "**Therefore the first cluster is the ideal location to build the hotel (based on the criteria of proximities to the point-of-interests and attraction venues)**"
   ]
  },
  {
   "cell_type": "markdown",
   "metadata": {},
   "source": [
    "<img src = \"https://i.ibb.co/D7ZJ5Ss/result.png\" width = 200> </a>"
   ]
  },
  {
   "cell_type": "markdown",
   "metadata": {},
   "source": [
    "<img src = \"https://i.ibb.co/JH7kZHG/Viz.png\" width = 1000> </a>"
   ]
  },
  {
   "cell_type": "markdown",
   "metadata": {},
   "source": [
    "The first cluster denoted as purple circles."
   ]
  },
  {
   "cell_type": "markdown",
   "metadata": {},
   "source": [
    "## Conclusion\n",
    "After using K-Means as clustering algorithm, it is found that the best neighborhoods to build the hotel (based on the proximity to point-of-interest/attraction venues) is Cluster 1, which includes Babakan Sari, Binong, Cibangkong, Gumuruh, Kacapiring, Kebon Gedang, Kebon Waru and Maleer neighborhood."
   ]
  },
  {
   "cell_type": "markdown",
   "metadata": {},
   "source": [
    "**Thank you for reading and assessing this project. Should there be any question, you can contact me through satriaawb@yahoo.co.id**"
   ]
  }
 ],
 "metadata": {
  "kernelspec": {
   "display_name": "Python 3",
   "language": "python",
   "name": "python3"
  },
  "language_info": {
   "codemirror_mode": {
    "name": "ipython",
    "version": 3
   },
   "file_extension": ".py",
   "mimetype": "text/x-python",
   "name": "python",
   "nbconvert_exporter": "python",
   "pygments_lexer": "ipython3",
   "version": "3.6.8"
  }
 },
 "nbformat": 4,
 "nbformat_minor": 2
}
